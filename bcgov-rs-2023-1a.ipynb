{
 "nbformat": 4,
 "nbformat_minor": 0,
 "metadata": {
  "colab": {
   "provenance": [],
   "toc_visible": true,
   "authorship_tag": "ABX9TyMENnNC3c65ykvckjEYbIvs"
  },
  "kernelspec": {
   "name": "python3",
   "display_name": "Python 3"
  },
  "language_info": {
   "name": "python"
  }
 },
 "cells": [
  {
   "cell_type": "markdown",
   "source": [
    "# Python and Google Colab\n",
    "###### bcgov-rs-workshop-2023"
   ],
   "metadata": {
    "id": "CFrupUyz7lOf"
   }
  },
  {
   "cell_type": "markdown",
   "source": [
    "This is a Google Colab notebook. Notebooks allow you to run blocks of code (cells), independently, in any order. You can execute a cell by clicking the cell's run symbol, or using one of several shortcuts (I normally use `Shift + Enter`, but it may depend on your operating system).\n",
    "\n",
    "The notebook runs a kernel, located on Google's infrastructure. If you execute a cell that crashes the kernel, or freezes, or encounter other issues, you can restart the kernel/runtime under the `Runtime` menu (you will lose all values in memory, though).\n",
    "\n",
    "This notebook is (hopefully) read-only, running within your own kernel. That means you can edit the code (or even this text, if you wanted) and execute it, but you will not be able to save your changes directly, overwriting the main version that we are all working from. You can save your own copy of the notebook to your Google Drive, though, which allow you to edit, execute, and save your own changes."
   ],
   "metadata": {
    "id": "2So0uz0pVONA"
   }
  },
  {
   "cell_type": "markdown",
   "source": [
    "Print the location of the Python interpreter. Convince yourself that the location is not on your machine. Note that this is a shell command, denoted by `!`. You can think of it like running a command in your terminal - this is not Python."
   ],
   "metadata": {
    "id": "S7PrLqwV8BVa"
   }
  },
  {
   "cell_type": "code",
   "execution_count": 11,
   "metadata": {
    "id": "4j-C-BpH6QWQ"
   },
   "outputs": [
    {
     "ename": "NameError",
     "evalue": "name 'python' is not defined",
     "output_type": "error",
     "traceback": [
      "\u001B[1;31m---------------------------------------------------------------------------\u001B[0m",
      "\u001B[1;31mNameError\u001B[0m                                 Traceback (most recent call last)",
      "\u001B[1;32m~\\AppData\\Local\\Temp\\ipykernel_27436\\639286843.py\u001B[0m in \u001B[0;36m<cell line: 1>\u001B[1;34m()\u001B[0m\n\u001B[1;32m----> 1\u001B[1;33m \u001B[0mpython\u001B[0m \u001B[1;33m-\u001B[0m\u001B[0mV\u001B[0m\u001B[1;33m\u001B[0m\u001B[1;33m\u001B[0m\u001B[0m\n\u001B[0m",
      "\u001B[1;31mNameError\u001B[0m: name 'python' is not defined"
     ]
    }
   ],
   "source": [
    "!which python"
   ]
  },
  {
   "cell_type": "markdown",
   "source": [
    "Print something using Python. Note that because the line does not start with `!`, it is run in the language of the kernel, which, in this case is Python."
   ],
   "metadata": {
    "id": "IuW-iSXm-CxZ"
   }
  },
  {
   "cell_type": "code",
   "source": [
    "print(\"Hello World!\")"
   ],
   "metadata": {
    "id": "OYzFRFmC-Gch"
   },
   "execution_count": 2,
   "outputs": [
    {
     "name": "stdout",
     "output_type": "stream",
     "text": [
      "Hello World!\n"
     ]
    }
   ]
  },
  {
   "cell_type": "markdown",
   "source": [
    "The notebook will also print the \"object representation\" of the last line, regardless whether you specify `print` or not. The object representation of various Python objects manifests itself in different forms, which you will see throughout this workshop."
   ],
   "metadata": {
    "id": "60PHLpyv-WEs"
   }
  },
  {
   "cell_type": "code",
   "source": [
    "\"abc\"\n",
    "print(\"Hello World!\")\n",
    "123"
   ],
   "metadata": {
    "id": "q7GOfotB-Ksm"
   },
   "execution_count": 4,
   "outputs": [
    {
     "name": "stdout",
     "output_type": "stream",
     "text": [
      "Hello World!\n"
     ]
    },
    {
     "data": {
      "text/plain": "123"
     },
     "execution_count": 4,
     "metadata": {},
     "output_type": "execute_result"
    }
   ]
  },
  {
   "cell_type": "markdown",
   "source": [
    "Print the location of pip. Notice that the location is similar to that of the python interpreter. Third party modules will be installed relative to this location."
   ],
   "metadata": {
    "id": "aUJnrFMQ8K6u"
   }
  },
  {
   "cell_type": "code",
   "source": [
    "!which pip"
   ],
   "metadata": {
    "id": "Wulyhp8b8G68"
   },
   "execution_count": null,
   "outputs": []
  },
  {
   "cell_type": "markdown",
   "source": [
    "Colab notebooks are preloaded with many third party modules. In normal practice, you would create a virtual environment, activate it, then `pip install` (or `conda install`) each of the necessary modules. The command `pip freeze` lists the modules that are available in our current environment. Run the command and be aware that there are several dependencies already installed in our environment."
   ],
   "metadata": {
    "id": "ouaR-R4v8bkl"
   }
  },
  {
   "cell_type": "code",
   "source": [
    "!pip freeze"
   ],
   "metadata": {
    "id": "PltGzQ4s8Ryz"
   },
   "execution_count": 5,
   "outputs": [
    {
     "name": "stdout",
     "output_type": "stream",
     "text": [
      "alabaster==0.7.12\n",
      "anaconda-client @ file:///home/conda/feedstock_root/build_artifacts/anaconda-client_1632453752331/work\n",
      "anaconda-navigator==2.3.2\n",
      "anaconda-project @ file:///home/conda/feedstock_root/build_artifacts/anaconda-project_1632773999114/work\n",
      "anyio @ file:///D:/bld/anyio_1652464116721/work/dist\n",
      "appdirs @ file:///home/conda/feedstock_root/build_artifacts/appdirs_1603108395799/work\n",
      "argh @ file:///home/conda/feedstock_root/build_artifacts/argh_1595627874344/work\n",
      "argon2-cffi @ file:///home/conda/feedstock_root/build_artifacts/argon2-cffi_1640817743617/work\n",
      "argon2-cffi-bindings @ file:///D:/bld/argon2-cffi-bindings_1649500515836/work\n",
      "arrow @ file:///home/conda/feedstock_root/build_artifacts/arrow_1643313750486/work\n",
      "asn1crypto @ file:///home/conda/feedstock_root/build_artifacts/asn1crypto_1647369152656/work\n",
      "astroid @ file:///D:/bld/astroid_1652112112351/work\n",
      "astropy @ file:///D:/bld/astropy_1653590270747/work\n",
      "async-generator==1.10\n",
      "atomicwrites @ file:///home/conda/feedstock_root/build_artifacts/atomicwrites_1588182545583/work\n",
      "attrs @ file:///home/conda/feedstock_root/build_artifacts/attrs_1640799537051/work\n",
      "autopep8 @ file:///home/conda/feedstock_root/build_artifacts/autopep8_1635267974115/work\n",
      "Babel @ file:///home/conda/feedstock_root/build_artifacts/babel_1651737115240/work\n",
      "backcall @ file:///home/conda/feedstock_root/build_artifacts/backcall_1592338393461/work\n",
      "backports.functools-lru-cache @ file:///home/conda/feedstock_root/build_artifacts/backports.functools_lru_cache_1618230623929/work\n",
      "backports.shutil-get-terminal-size==1.0.0\n",
      "bcrypt @ file:///D:/bld/bcrypt_1651441745194/work\n",
      "beautifulsoup4 @ file:///home/conda/feedstock_root/build_artifacts/beautifulsoup4_1649463573192/work\n",
      "binaryornot==0.4.4\n",
      "bitarray @ file:///D:/bld/bitarray_1652238744713/work\n",
      "bkcharts==0.2\n",
      "black @ file:///home/conda/feedstock_root/build_artifacts/black-recipe_1648499330704/work\n",
      "bleach @ file:///home/conda/feedstock_root/build_artifacts/bleach_1649361991009/work\n",
      "bokeh @ file:///D:/bld/bokeh_1652969902726/work\n",
      "boto==2.49.0\n",
      "Bottleneck @ file:///D:/bld/bottleneck_1649629816025/work\n",
      "branca @ file:///home/conda/feedstock_root/build_artifacts/branca_1650311966802/work\n",
      "brotlipy @ file:///D:/bld/brotlipy_1648854327487/work\n",
      "cached-property @ file:///home/conda/feedstock_root/build_artifacts/cached_property_1615209429212/work\n",
      "certifi==2022.12.7\n",
      "cffi @ file:///D:/bld/cffi_1636046278333/work\n",
      "chardet @ file:///D:/bld/chardet_1649184305501/work\n",
      "charset-normalizer @ file:///home/conda/feedstock_root/build_artifacts/charset-normalizer_1644853463426/work\n",
      "click @ file:///D:/bld/click_1651215430313/work\n",
      "click-plugins==1.1.1\n",
      "cligj @ file:///home/conda/feedstock_root/build_artifacts/cligj_1633637764473/work\n",
      "cloudpickle @ file:///home/conda/feedstock_root/build_artifacts/cloudpickle_1653061851209/work\n",
      "clyent==1.2.2\n",
      "colorama @ file:///home/conda/feedstock_root/build_artifacts/colorama_1602866480661/work\n",
      "comtypes==1.1.11\n",
      "conda==22.11.1\n",
      "conda-build==3.21.9\n",
      "conda-content-trust @ file:///home/conda/feedstock_root/build_artifacts/conda-content-trust_1621370699668/work\n",
      "conda-pack @ file:///home/conda/feedstock_root/build_artifacts/conda-pack_1642622318035/work\n",
      "conda-package-handling @ file:///D:/bld/conda-package-handling_1649385222928/work\n",
      "conda-repo-cli @ file:///tmp/build/80754af9/conda-repo-cli_1620168426516/work\n",
      "conda-token @ file:///tmp/build/80754af9/conda-token_1620076980546/work\n",
      "conda-verify @ file:///D:/bld/conda-verify_1635878907696/work\n",
      "contextlib2 @ file:///home/conda/feedstock_root/build_artifacts/contextlib2_1624848568296/work\n",
      "cookiecutter @ file:///home/conda/feedstock_root/build_artifacts/cookiecutter_1654122127219/work\n",
      "cryptography @ file:///D:/bld/cryptography_1652967266737/work\n",
      "cycler @ file:///home/conda/feedstock_root/build_artifacts/cycler_1635519461629/work\n",
      "Cython @ file:///D:/bld/cython_1652809429232/work\n",
      "cytoolz==0.11.2\n",
      "daal4py==2021.5.0\n",
      "dask @ file:///home/conda/feedstock_root/build_artifacts/dask-core_1653603260862/work\n",
      "dataclasses @ file:///home/conda/feedstock_root/build_artifacts/dataclasses_1628958434797/work\n",
      "debugpy @ file:///D:/bld/debugpy_1649586515543/work\n",
      "decorator @ file:///home/conda/feedstock_root/build_artifacts/decorator_1641555617451/work\n",
      "defusedxml @ file:///home/conda/feedstock_root/build_artifacts/defusedxml_1615232257335/work\n",
      "diff-match-patch @ file:///home/conda/feedstock_root/build_artifacts/diff-match-patch_1594679019945/work\n",
      "dill @ file:///home/conda/feedstock_root/build_artifacts/dill_1653058582944/work\n",
      "distributed @ file:///home/conda/feedstock_root/build_artifacts/distributed_1653607935301/work\n",
      "docutils @ file:///D:/bld/docutils_1648737828698/work\n",
      "entrypoints @ file:///home/conda/feedstock_root/build_artifacts/entrypoints_1643888246732/work\n",
      "et-xmlfile==1.0.1\n",
      "fastcache @ file:///D:/bld/fastcache_1650118035493/work\n",
      "fastjsonschema @ file:///home/conda/feedstock_root/build_artifacts/python-fastjsonschema_1641751198313/work/dist\n",
      "filelock @ file:///home/conda/feedstock_root/build_artifacts/filelock_1654070194245/work\n",
      "Fiona==1.8.21\n",
      "flake8 @ file:///home/conda/feedstock_root/build_artifacts/flake8_1646781084538/work\n",
      "Flask @ file:///home/conda/feedstock_root/build_artifacts/flask_1651670959703/work\n",
      "flit_core @ file:///home/conda/feedstock_root/build_artifacts/flit-core_1645629044586/work/source/flit_core\n",
      "folium @ file:///home/conda/feedstock_root/build_artifacts/folium_1638560701663/work\n",
      "fonttools @ file:///D:/bld/fonttools_1651018206941/work\n",
      "fsspec @ file:///home/conda/feedstock_root/build_artifacts/fsspec_1653010523205/work\n",
      "future @ file:///D:/bld/future_1649010333337/work\n",
      "GDAL==3.5.0\n",
      "geopandas @ file:///home/conda/feedstock_root/build_artifacts/geopandas_1638382567988/work\n",
      "gevent @ file:///D:/bld/gevent_1649327465609/work\n",
      "glob2==0.7\n",
      "greenlet @ file:///D:/bld/greenlet_1648882589361/work\n",
      "h5py @ file:///D:/bld/h5py_1637964127763/work\n",
      "HeapDict==1.0.1\n",
      "html5lib @ file:///home/conda/feedstock_root/build_artifacts/html5lib_1592930327044/work\n",
      "idna @ file:///home/conda/feedstock_root/build_artifacts/idna_1642433548627/work\n",
      "imagecodecs @ file:///D:/bld/imagecodecs_1652926324082/work\n",
      "imageio @ file:///home/conda/feedstock_root/build_artifacts/imageio_1654071881944/work\n",
      "imagesize @ file:///home/conda/feedstock_root/build_artifacts/imagesize_1636492669893/work\n",
      "importlib-metadata @ file:///D:/bld/importlib-metadata_1653252997230/work\n",
      "importlib-resources @ file:///home/conda/feedstock_root/build_artifacts/importlib_resources_1652715758048/work\n",
      "inflection @ file:///home/conda/feedstock_root/build_artifacts/inflection_1598089801258/work\n",
      "iniconfig @ file:///home/conda/feedstock_root/build_artifacts/iniconfig_1603384189793/work\n",
      "intervaltree==3.0.2\n",
      "ipykernel @ file:///D:/bld/ipykernel_1654565080572/work\n",
      "ipython @ file:///D:/bld/ipython_1651240751817/work\n",
      "ipython-genutils==0.2.0\n",
      "ipywidgets @ file:///home/conda/feedstock_root/build_artifacts/ipywidgets_1647456365981/work\n",
      "isort @ file:///home/conda/feedstock_root/build_artifacts/isort_1636447814597/work\n",
      "itsdangerous @ file:///home/conda/feedstock_root/build_artifacts/itsdangerous_1648147185463/work\n",
      "jdcal==1.4.1\n",
      "jedi @ file:///D:/bld/jedi_1649067332918/work\n",
      "jellyfish @ file:///D:/bld/jellyfish_1649404917811/work\n",
      "Jinja2 @ file:///home/conda/feedstock_root/build_artifacts/jinja2_1654302431367/work\n",
      "jinja2-time @ file:///home/conda/feedstock_root/build_artifacts/jinja2-time_1646750632133/work\n",
      "joblib @ file:///home/conda/feedstock_root/build_artifacts/joblib_1633637554808/work\n",
      "json5 @ file:///home/conda/feedstock_root/build_artifacts/json5_1600692310011/work\n",
      "jsonschema @ file:///home/conda/feedstock_root/build_artifacts/jsonschema-meta_1654138136460/work\n",
      "jupyter @ file:///D:/bld/jupyter_1637233338215/work\n",
      "jupyter-client @ file:///home/conda/feedstock_root/build_artifacts/jupyter_client_1654730843242/work\n",
      "jupyter-console @ file:///home/conda/feedstock_root/build_artifacts/jupyter_console_1646669715337/work\n",
      "jupyter-core @ file:///D:/bld/jupyter_core_1652365569005/work\n",
      "jupyter-server @ file:///home/conda/feedstock_root/build_artifacts/jupyter_server_1654636144140/work\n",
      "jupyterlab @ file:///home/conda/feedstock_root/build_artifacts/jupyterlab_1654621376725/work\n",
      "jupyterlab-pygments @ file:///home/conda/feedstock_root/build_artifacts/jupyterlab_pygments_1649936611996/work\n",
      "jupyterlab-server @ file:///home/conda/feedstock_root/build_artifacts/jupyterlab_server_1652878309867/work\n",
      "jupyterlab-widgets @ file:///home/conda/feedstock_root/build_artifacts/jupyterlab_widgets_1647446862951/work\n",
      "keyring @ file:///D:/bld/keyring_1654716196030/work\n",
      "kiwisolver @ file:///D:/bld/kiwisolver_1648854553193/work\n",
      "lazy-object-proxy @ file:///D:/bld/lazy-object-proxy_1649033324076/work\n",
      "libarchive-c @ file:///D:/bld/python-libarchive-c_1649436172246/work\n",
      "llvmlite==0.38.1\n",
      "locket @ file:///home/conda/feedstock_root/build_artifacts/locket_1650660393415/work\n",
      "lxml @ file:///D:/bld/lxml_1654081975594/work\n",
      "lz4 @ file:///D:/bld/lz4_1652795749933/work\n",
      "mapclassify @ file:///home/conda/feedstock_root/build_artifacts/mapclassify_1627363180059/work\n",
      "MarkupSafe @ file:///D:/bld/markupsafe_1648737757460/work\n",
      "matplotlib @ file:///D:/bld/matplotlib-suite_1651609646819/work\n",
      "matplotlib-inline @ file:///home/conda/feedstock_root/build_artifacts/matplotlib-inline_1631080358261/work\n",
      "mccabe==0.6.1\n",
      "menuinst @ file:///D:/bld/menuinst_1636828869879/work\n",
      "mistune @ file:///D:/bld/mistune_1635844891406/work\n",
      "mkl-fft==1.3.1\n",
      "mkl-random==1.2.2\n",
      "mkl-service==2.4.0\n",
      "mock @ file:///D:/bld/mock_1648992969698/work\n",
      "more-itertools @ file:///home/conda/feedstock_root/build_artifacts/more-itertools_1652515549581/work\n",
      "mpmath @ file:///home/conda/feedstock_root/build_artifacts/mpmath_1612895720168/work\n",
      "msgpack @ file:///D:/bld/msgpack-python_1654260783733/work\n",
      "multipledispatch==0.6.0\n",
      "munch==2.5.0\n",
      "munkres==1.1.4\n",
      "mypy-extensions @ file:///D:/bld/mypy_extensions_1649013558628/work\n",
      "navigator-updater==0.2.1\n",
      "nbclassic @ file:///home/conda/feedstock_root/build_artifacts/nbclassic_1647450696711/work\n",
      "nbclient @ file:///home/conda/feedstock_root/build_artifacts/nbclient_1654071785565/work\n",
      "nbconvert @ file:///home/conda/feedstock_root/build_artifacts/nbconvert-meta_1649676641343/work\n",
      "nbformat @ file:///home/conda/feedstock_root/build_artifacts/nbformat_1651607001005/work\n",
      "nest-asyncio @ file:///home/conda/feedstock_root/build_artifacts/nest-asyncio_1648959695634/work\n",
      "networkx @ file:///home/conda/feedstock_root/build_artifacts/networkx_1654375205989/work\n",
      "nltk @ file:///home/conda/feedstock_root/build_artifacts/nltk_1640748215808/work\n",
      "nose @ file:///home/conda/feedstock_root/build_artifacts/nose_1602434998960/work\n",
      "notebook @ file:///home/conda/feedstock_root/build_artifacts/notebook_1654636967533/work\n",
      "notebook-shim @ file:///home/conda/feedstock_root/build_artifacts/notebook-shim_1646330736330/work\n",
      "numba @ file:///D:/bld/numba_1652226932339/work\n",
      "numexpr @ file:///C:/ci/numexpr_1640704337920/work\n",
      "numpy @ file:///C:/ci/numpy_and_numpy_base_1653574844560/work\n",
      "numpydoc @ file:///home/conda/feedstock_root/build_artifacts/numpydoc_1648619272706/work\n",
      "olefile @ file:///home/conda/feedstock_root/build_artifacts/olefile_1602866521163/work\n",
      "openpyxl @ file:///home/conda/feedstock_root/build_artifacts/openpyxl_1632332968451/work\n",
      "packaging @ file:///home/conda/feedstock_root/build_artifacts/packaging_1637239678211/work\n",
      "pandas @ file:///D:/bld/pandas_1653497239685/work\n",
      "pandocfilters @ file:///home/conda/feedstock_root/build_artifacts/pandocfilters_1631603243851/work\n",
      "paramiko @ file:///home/conda/feedstock_root/build_artifacts/paramiko_1652792654356/work\n",
      "parso @ file:///home/conda/feedstock_root/build_artifacts/parso_1638334955874/work\n",
      "partd @ file:///home/conda/feedstock_root/build_artifacts/partd_1617910651905/work\n",
      "path @ file:///D:/bld/path_1649244698051/work\n",
      "pathlib2 @ file:///D:/bld/pathlib2_1649684229157/work\n",
      "pathspec @ file:///home/conda/feedstock_root/build_artifacts/pathspec_1626613672358/work\n",
      "patsy @ file:///home/conda/feedstock_root/build_artifacts/patsy_1632667180946/work\n",
      "pep8==1.7.1\n",
      "pexpect @ file:///home/conda/feedstock_root/build_artifacts/pexpect_1602535608087/work\n",
      "pickleshare @ file:///home/conda/feedstock_root/build_artifacts/pickleshare_1602536217715/work\n",
      "Pillow @ file:///D:/bld/pillow_1648857353114/work\n",
      "pkginfo @ file:///home/conda/feedstock_root/build_artifacts/pkginfo_1654782790443/work\n",
      "platformdirs @ file:///home/conda/feedstock_root/build_artifacts/platformdirs_1645298319244/work\n",
      "pluggy @ file:///D:/bld/pluggy_1648772781226/work\n",
      "ply==3.11\n",
      "poyo==0.5.0\n",
      "prometheus-client @ file:///home/conda/feedstock_root/build_artifacts/prometheus_client_1649447152425/work\n",
      "prompt-toolkit @ file:///home/conda/feedstock_root/build_artifacts/prompt-toolkit_1649130487073/work\n",
      "psutil @ file:///D:/bld/psutil_1653089392436/work\n",
      "psycopg2 @ file:///D:/bld/psycopg2-split_1640944706772/work\n",
      "ptyprocess @ file:///home/conda/feedstock_root/build_artifacts/ptyprocess_1609419310487/work/dist/ptyprocess-0.7.0-py2.py3-none-any.whl\n",
      "py @ file:///home/conda/feedstock_root/build_artifacts/py_1636301881863/work\n",
      "pycodestyle @ file:///home/conda/feedstock_root/build_artifacts/pycodestyle_1633982426610/work\n",
      "pycosat @ file:///D:/bld/pycosat_1649384983580/work\n",
      "pycparser @ file:///home/conda/feedstock_root/build_artifacts/pycparser_1636257122734/work\n",
      "pycurl==7.45.1\n",
      "pydocstyle @ file:///home/conda/feedstock_root/build_artifacts/pydocstyle_1621377123289/work\n",
      "pyerfa @ file:///D:/bld/pyerfa_1649586279666/work\n",
      "pyflakes @ file:///home/conda/feedstock_root/build_artifacts/pyflakes_1633634815271/work\n",
      "Pygments @ file:///home/conda/feedstock_root/build_artifacts/pygments_1650904496387/work\n",
      "PyJWT @ file:///home/conda/feedstock_root/build_artifacts/pyjwt_1652398519695/work\n",
      "pylint @ file:///home/conda/feedstock_root/build_artifacts/pylint_1654597844531/work\n",
      "pyls-spyder @ file:///home/conda/feedstock_root/build_artifacts/pyls-spyder_1619747398504/work\n",
      "PyNaCl @ file:///D:/bld/pynacl_1649520147560/work\n",
      "pyodbc @ file:///D:/bld/pyodbc_1636085640165/work\n",
      "pyOpenSSL @ file:///home/conda/feedstock_root/build_artifacts/pyopenssl_1643496850550/work\n",
      "pyparsing @ file:///home/conda/feedstock_root/build_artifacts/pyparsing_1652235407899/work\n",
      "pyproj @ file:///D:/bld/pyproj_1650803256369/work\n",
      "PyQt5==5.15.4\n",
      "PyQt5-sip @ file:///D:/bld/pyqt-split_1654255810381/work/pyqt_sip\n",
      "PyQtWebEngine==5.15.4\n",
      "pyreadline @ file:///D:/bld/pyreadline_1636288672905/work\n",
      "pyrsistent @ file:///D:/bld/pyrsistent_1649013531721/work\n",
      "PySocks @ file:///D:/bld/pysocks_1648857426942/work\n",
      "pytest==7.1.2\n",
      "python-dateutil @ file:///home/conda/feedstock_root/build_artifacts/python-dateutil_1626286286081/work\n",
      "python-lsp-black @ file:///home/conda/feedstock_root/build_artifacts/python-lsp-black_1649795569828/work\n",
      "python-lsp-jsonrpc @ file:///home/conda/feedstock_root/build_artifacts/python-lsp-jsonrpc_1618530352985/work\n",
      "python-lsp-server @ file:///home/conda/feedstock_root/build_artifacts/python-lsp-server_1648744803503/work\n",
      "python-slugify @ file:///home/conda/feedstock_root/build_artifacts/python-slugify_1651150815876/work\n",
      "pytz @ file:///home/conda/feedstock_root/build_artifacts/pytz_1647961439546/work\n",
      "PyWavelets @ file:///D:/bld/pywavelets_1649616575120/work\n",
      "pywin32==303\n",
      "pywin32-ctypes @ file:///D:/bld/pywin32-ctypes_1648607901171/work\n",
      "pywinpty @ file:///D:/bld/pywinpty_1649088391028/work/target/wheels/pywinpty-2.0.5-cp39-none-win_amd64.whl\n",
      "PyYAML @ file:///D:/bld/pyyaml_1648757346451/work\n",
      "pyzmq @ file:///D:/bld/pyzmq_1654181530121/work\n",
      "QDarkStyle @ file:///home/conda/feedstock_root/build_artifacts/qdarkstyle_1638323533455/work\n",
      "qstylizer @ file:///home/conda/feedstock_root/build_artifacts/qstylizer_1627619480283/work/dist/qstylizer-0.2.1-py2.py3-none-any.whl\n",
      "QtAwesome @ file:///home/conda/feedstock_root/build_artifacts/qtawesome_1638212842953/work\n",
      "qtconsole @ file:///home/conda/feedstock_root/build_artifacts/qtconsole-base_1654465674650/work\n",
      "QtPy @ file:///home/conda/feedstock_root/build_artifacts/qtpy_1651524593465/work\n",
      "regex @ file:///D:/bld/regex_1654223343784/work\n",
      "requests @ file:///home/conda/feedstock_root/build_artifacts/requests_1654796491502/work\n",
      "rope @ file:///home/conda/feedstock_root/build_artifacts/rope_1653489009999/work\n",
      "Rtree @ file:///D:/bld/rtree_1649367810340/work\n",
      "ruamel-yaml-conda @ file:///D:/bld/ruamel_yaml_1653464725314/work\n",
      "ruamel.yaml @ file:///D:/bld/ruamel.yaml_1649033355313/work\n",
      "ruamel.yaml.clib @ file:///C:/b/abs_aarblxbilo/croot/ruamel.yaml.clib_1666302270884/work\n",
      "scikit-image @ file:///D:/bld/scikit-image_1645196926663/work\n",
      "scikit-learn @ file:///D:/bld/scikit-learn_1652976858669/work\n",
      "scikit-learn-intelex==2021.20220207.124119\n",
      "scipy @ file:///C:/bld/scipy_1653074066186/work\n",
      "seaborn @ file:///home/conda/feedstock_root/build_artifacts/seaborn-split_1629095986539/work\n",
      "Send2Trash @ file:///home/conda/feedstock_root/build_artifacts/send2trash_1628511208346/work\n",
      "Shapely==1.8.2\n",
      "simplegeneric==0.8.1\n",
      "singledispatch @ file:///home/conda/feedstock_root/build_artifacts/singledispatch_1614388326733/work\n",
      "sip @ file:///D:/bld/sip_1646101362141/work\n",
      "six @ file:///home/conda/feedstock_root/build_artifacts/six_1620240208055/work\n",
      "sniffio @ file:///D:/bld/sniffio_1648819365674/work\n",
      "snowballstemmer @ file:///home/conda/feedstock_root/build_artifacts/snowballstemmer_1637143057757/work\n",
      "sortedcollections @ file:///home/conda/feedstock_root/build_artifacts/sortedcollections_1611011426343/work\n",
      "sortedcontainers @ file:///home/conda/feedstock_root/build_artifacts/sortedcontainers_1621217038088/work\n",
      "soupsieve @ file:///home/conda/feedstock_root/build_artifacts/soupsieve_1638550740809/work\n",
      "Sphinx @ file:///home/conda/feedstock_root/build_artifacts/sphinx_1654202787037/work\n",
      "sphinxcontrib-applehelp==1.0.2\n",
      "sphinxcontrib-devhelp==1.0.2\n",
      "sphinxcontrib-htmlhelp @ file:///home/conda/feedstock_root/build_artifacts/sphinxcontrib-htmlhelp_1621704829796/work\n",
      "sphinxcontrib-jsmath==1.0.1\n",
      "sphinxcontrib-qthelp==1.0.3\n",
      "sphinxcontrib-serializinghtml @ file:///home/conda/feedstock_root/build_artifacts/sphinxcontrib-serializinghtml_1649380998999/work\n",
      "sphinxcontrib-websupport @ file:///home/conda/feedstock_root/build_artifacts/sphinxcontrib-websupport_1636966052463/work\n",
      "spyder @ file:///D:/bld/spyder_1653428539795/work\n",
      "spyder-kernels @ file:///D:/bld/spyder-kernels_1653181281239/work\n",
      "SQLAlchemy @ file:///D:/bld/sqlalchemy_1654061650775/work\n",
      "statsmodels @ file:///D:/bld/statsmodels_1644535868573/work\n",
      "sympy @ file:///D:/bld/sympy_1647802757727/work\n",
      "tables==3.7.0\n",
      "TBB==0.2\n",
      "tblib @ file:///home/conda/feedstock_root/build_artifacts/tblib_1616261298899/work\n",
      "terminado @ file:///D:/bld/terminado_1652790835377/work\n",
      "testpath @ file:///home/conda/feedstock_root/build_artifacts/testpath_1645693042223/work\n",
      "text-unidecode==1.3\n",
      "textdistance @ file:///home/conda/feedstock_root/build_artifacts/textdistance_1635354148551/work\n",
      "threadpoolctl @ file:///home/conda/feedstock_root/build_artifacts/threadpoolctl_1643647933166/work\n",
      "three-merge @ file:///home/conda/feedstock_root/build_artifacts/three-merge_1595515817927/work\n",
      "tifffile @ file:///home/conda/feedstock_root/build_artifacts/tifffile_1651666912743/work\n",
      "tinycss @ file:///home/conda/feedstock_root/build_artifacts/tinycss_1617478862138/work\n",
      "tinycss2 @ file:///home/conda/feedstock_root/build_artifacts/tinycss2_1637612658783/work\n",
      "toml @ file:///home/conda/feedstock_root/build_artifacts/toml_1604308577558/work\n",
      "tomli @ file:///home/conda/feedstock_root/build_artifacts/tomli_1644342247877/work\n",
      "tomlkit @ file:///home/conda/feedstock_root/build_artifacts/tomlkit_1653380885187/work\n",
      "toolz @ file:///home/conda/feedstock_root/build_artifacts/toolz_1636177962100/work\n",
      "tornado @ file:///D:/bld/tornado_1648827405403/work\n",
      "tqdm @ file:///home/conda/feedstock_root/build_artifacts/tqdm_1649051611147/work\n",
      "traitlets @ file:///home/conda/feedstock_root/build_artifacts/traitlets_1654067514780/work\n",
      "typed-ast @ file:///D:/bld/typed-ast_1653226311309/work\n",
      "typing_extensions @ file:///home/conda/feedstock_root/build_artifacts/typing_extensions_1650370875435/work\n",
      "ujson @ file:///D:/bld/ujson_1653057628323/work\n",
      "unicodecsv==0.14.1\n",
      "unicodedata2 @ file:///D:/bld/unicodedata2_1649112114189/work\n",
      "Unidecode @ file:///home/conda/feedstock_root/build_artifacts/unidecode_1646918762405/work\n",
      "urllib3 @ file:///home/conda/feedstock_root/build_artifacts/urllib3_1647489083693/work\n",
      "watchdog @ file:///D:/bld/watchdog_1652635556577/work\n",
      "wcwidth @ file:///home/conda/feedstock_root/build_artifacts/wcwidth_1600965781394/work\n",
      "webencodings==0.5.1\n",
      "websocket-client @ file:///home/conda/feedstock_root/build_artifacts/websocket-client_1648562593984/work\n",
      "Werkzeug @ file:///home/conda/feedstock_root/build_artifacts/werkzeug_1651670883478/work\n",
      "whichcraft==0.6.1\n",
      "widgetsnbextension @ file:///D:/bld/widgetsnbextension_1647447150450/work\n",
      "win-inet-pton @ file:///D:/bld/win_inet_pton_1648771910527/work\n",
      "win-unicode-console @ file:///D:/bld/win_unicode_console_1636286541809/work\n",
      "wincertstore==0.2\n",
      "wrapt @ file:///D:/bld/wrapt_1651495581086/work\n",
      "xlrd @ file:///home/conda/feedstock_root/build_artifacts/xlrd_1610224409810/work\n",
      "XlsxWriter @ file:///home/conda/feedstock_root/build_artifacts/xlsxwriter_1645975313810/work\n",
      "xlwings @ file:///D:/bld/xlwings_1654426850996/work\n",
      "xlwt==1.3.0\n",
      "xyzservices @ file:///home/conda/feedstock_root/build_artifacts/xyzservices_1649934406482/work\n",
      "yapf @ file:///home/conda/feedstock_root/build_artifacts/yapf_1641487982943/work\n",
      "zict @ file:///home/conda/feedstock_root/build_artifacts/zict_1651156074437/work\n",
      "zipp @ file:///home/conda/feedstock_root/build_artifacts/zipp_1649012893348/work\n",
      "zope.event @ file:///home/conda/feedstock_root/build_artifacts/zope.event_1600479883063/work\n",
      "zope.interface @ file:///D:/bld/zope.interface_1649175877560/work\n"
     ]
    }
   ]
  },
  {
   "cell_type": "markdown",
   "source": [
    "Likewise, we can see the Python modules and files that we have access to by listing (`ls` command) the relative `dist-packages` directory."
   ],
   "metadata": {
    "id": "uplXMOtGCBql"
   }
  },
  {
   "cell_type": "code",
   "source": [
    "!ls /usr/local/lib/python3.8/dist-packages"
   ],
   "metadata": {
    "id": "9Gzk_23YBLH6"
   },
   "execution_count": null,
   "outputs": []
  },
  {
   "cell_type": "markdown",
   "source": [
    "# RESTful APIs"
   ],
   "metadata": {
    "id": "iLetwXn-Qm_c"
   }
  },
  {
   "cell_type": "markdown",
   "source": [
    "Note that `requests` is installed. This module provides functions for making REST API requests through the internet. Let's `import` it so that we can use it to make a request."
   ],
   "metadata": {
    "id": "8cvWUaG8YzrY"
   }
  },
  {
   "cell_type": "code",
   "source": [
    "import requests"
   ],
   "metadata": {
    "id": "dpffcsoM8luc"
   },
   "execution_count": 6,
   "outputs": []
  },
  {
   "cell_type": "markdown",
   "source": [
    "We're going to make a request to a public REST API for Star Wars information. You can find more documentation here: https://swapi.dev/documentation.\n",
    "\n",
    "The endpoint we'll use is: https://swapi.dev/api/planets/2/?format=json\n",
    "\n",
    "Notice that we use `requests.get(...)`, meaning we are executing a `GET` request. Web browsers make a `GET` request like this every time you load a web page. Try entering the endpoint in your browser's address bar (I recommend a different tab) and notice that the response is same as created below.\n",
    "\n",
    "You can experiment by changing the index value (here, `2`) to a different number to retrieve a different planet's information. You can also try different endpoints outlined in the documentation (e.g. replace `planets` with `starships`).\n",
    "\n",
    "Later in this course, we will use other, more sophisticated, request methods (e.g. `POST`) to send more information to an API."
   ],
   "metadata": {
    "id": "YrrA2E6MabnP"
   }
  },
  {
   "cell_type": "code",
   "source": [
    "url = \"https://swapi.dev/api/planets/2/?format=json\"\n",
    "response = requests.get(url)\n",
    "response.json()"
   ],
   "metadata": {
    "id": "yI9RY6aRYyUs"
   },
   "execution_count": 7,
   "outputs": [
    {
     "data": {
      "text/plain": "{'name': 'Alderaan',\n 'rotation_period': '24',\n 'orbital_period': '364',\n 'diameter': '12500',\n 'climate': 'temperate',\n 'gravity': '1 standard',\n 'terrain': 'grasslands, mountains',\n 'surface_water': '40',\n 'population': '2000000000',\n 'residents': ['https://swapi.dev/api/people/5/',\n  'https://swapi.dev/api/people/68/',\n  'https://swapi.dev/api/people/81/'],\n 'films': ['https://swapi.dev/api/films/1/', 'https://swapi.dev/api/films/6/'],\n 'created': '2014-12-10T11:35:48.479000Z',\n 'edited': '2014-12-20T20:58:18.420000Z',\n 'url': 'https://swapi.dev/api/planets/2/'}"
     },
     "execution_count": 7,
     "metadata": {},
     "output_type": "execute_result"
    }
   ]
  },
  {
   "cell_type": "markdown",
   "source": [
    "Notice that we specified a **url parameter**. Url parameters are key/value pairs following `?`, separated by `&`. In this case, we specify `format=json` meaning we want the response to returned in `json` format (a known standard format, easily parsed to a Python dictionary, using `response.json()`). APIs may allow other values for url parameters. In the case of this API, there is another format available: `format=wookiee`. By substituting the url parameter, we can tailor the response to our needs, if we wanted the response to be returned in Wookiee language, for some reason (it is also in json format, but translated)."
   ],
   "metadata": {
    "id": "dxvyXswDDcjR"
   }
  },
  {
   "cell_type": "code",
   "source": [
    "url = \"https://swapi.dev/api/planets/2/?format=wookiee\"\n",
    "response = requests.get(url)\n",
    "response.json()"
   ],
   "metadata": {
    "id": "jqzWTya5czwu"
   },
   "execution_count": 8,
   "outputs": [
    {
     "data": {
      "text/plain": "{'whrascwo': 'Aanwaworcrarawh',\n 'rcooaoraaoahoowh_akworcahoowa': '24',\n 'oorcrhahaoraan_akworcahoowa': '364',\n 'waahrascwoaoworc': '12500',\n 'oaanahscraaowo': 'aowoscakworcraaowo',\n 'rrrcrahoahaoro': '1 caorawhwararcwa',\n 'aoworcrcraahwh': 'rrrcraccanrawhwac, scoohuwhaoraahwhc',\n 'churcwwraoawo_ohraaoworc': '40',\n 'akooakhuanraaoahoowh': '2000000000',\n 'rcwocahwawowhaoc': ['acaoaoakc://cohraakah.wawoho/raakah/akwoooakanwo/5/',\n  'acaoaoakc://cohraakah.wawoho/raakah/akwoooakanwo/68/',\n  'acaoaoakc://cohraakah.wawoho/raakah/akwoooakanwo/81/'],\n 'wwahanscc': ['acaoaoakc://cohraakah.wawoho/raakah/wwahanscc/1/',\n  'acaoaoakc://cohraakah.wawoho/raakah/wwahanscc/6/'],\n 'oarcworaaowowa': '2014-12-10T11:35:48.479000Z',\n 'wowaahaowowa': '2014-12-20T20:58:18.420000Z',\n 'hurcan': 'acaoaoakc://cohraakah.wawoho/raakah/akanrawhwoaoc/2/'}"
     },
     "execution_count": 8,
     "metadata": {},
     "output_type": "execute_result"
    }
   ]
  },
  {
   "cell_type": "markdown",
   "source": [
    "The `response` object also returns a `status_code` from the server. This is useful to determine whether the request returned successfully (200) or some other error code (e.g. 500 internal server error, 404 not found, 400 bad request, etc.). See if you can generate a 200 response with a good request, and 404 error with an invalid request."
   ],
   "metadata": {
    "id": "5aTe6LAtFNuL"
   }
  },
  {
   "cell_type": "code",
   "source": [
    "url = \"https://swapi.dev/api/planets/2/?format=json\"\n",
    "response = requests.get(url)\n",
    "response.status_code"
   ],
   "metadata": {
    "id": "RDHQnyskEYwi"
   },
   "execution_count": 9,
   "outputs": [
    {
     "data": {
      "text/plain": "200"
     },
     "execution_count": 9,
     "metadata": {},
     "output_type": "execute_result"
    }
   ]
  },
  {
   "cell_type": "markdown",
   "source": [
    "Finally, we can inspect the entire response object with the built-in `vars()` method. This is generally useful in debugging all sorts of Python objects. Notice that it contains a raw byte representation of the response (which we converted to a Python dictionary above using `json()`), the `status_code`, the original request `url` (useful in automated situations when you don't necessarily know the url you are making requests to in advance), plus other information."
   ],
   "metadata": {
    "id": "4f4TpmaCGR5P"
   }
  },
  {
   "cell_type": "code",
   "source": [
    "vars(response)"
   ],
   "metadata": {
    "id": "knqFStPTE9AD"
   },
   "execution_count": 10,
   "outputs": [
    {
     "data": {
      "text/plain": "{'_content': b'{\"name\":\"Alderaan\",\"rotation_period\":\"24\",\"orbital_period\":\"364\",\"diameter\":\"12500\",\"climate\":\"temperate\",\"gravity\":\"1 standard\",\"terrain\":\"grasslands, mountains\",\"surface_water\":\"40\",\"population\":\"2000000000\",\"residents\":[\"https://swapi.dev/api/people/5/\",\"https://swapi.dev/api/people/68/\",\"https://swapi.dev/api/people/81/\"],\"films\":[\"https://swapi.dev/api/films/1/\",\"https://swapi.dev/api/films/6/\"],\"created\":\"2014-12-10T11:35:48.479000Z\",\"edited\":\"2014-12-20T20:58:18.420000Z\",\"url\":\"https://swapi.dev/api/planets/2/\"}',\n '_content_consumed': True,\n '_next': None,\n 'status_code': 200,\n 'headers': {'Server': 'nginx/1.16.1', 'Date': 'Thu, 23 Feb 2023 17:13:19 GMT', 'Content-Type': 'application/json', 'Transfer-Encoding': 'chunked', 'Connection': 'keep-alive', 'Vary': 'Accept, Cookie', 'X-Frame-Options': 'SAMEORIGIN', 'ETag': '\"c63067c043a8b77cfca37575d82206bb\"', 'Allow': 'GET, HEAD, OPTIONS', 'Strict-Transport-Security': 'max-age=15768000'},\n 'raw': <urllib3.response.HTTPResponse at 0x15b4f872dc0>,\n 'url': 'https://swapi.dev/api/planets/2/?format=json',\n 'encoding': 'utf-8',\n 'history': [],\n 'reason': 'OK',\n 'cookies': <RequestsCookieJar[]>,\n 'elapsed': datetime.timedelta(seconds=1, microseconds=22061),\n 'request': <PreparedRequest [GET]>,\n 'connection': <requests.adapters.HTTPAdapter at 0x15b514eebe0>}"
     },
     "execution_count": 10,
     "metadata": {},
     "output_type": "execute_result"
    }
   ]
  },
  {
   "cell_type": "markdown",
   "source": [
    "Let's try a BC Government API!\n",
    "\n",
    "BC Government API Guidelines (general information): https://developer.gov.bc.ca/Data-and-APIs/BC-Government-API-Guidelines\n",
    "\n",
    "BC Government API Registry (listing of published APIs): https://catalogue.data.gov.bc.ca/group/bc-government-api-registry\n",
    "\n",
    "BC Government News API (an example API): https://catalogue.data.gov.bc.ca/dataset/bc-gov-news-api-service\n",
    "\n",
    "API Console - OAS3 (click Access/Download): https://raw.githubusercontent.com/bcgov/api-specs/master/news/news-oas3.yaml\n",
    "\n",
    "Swagger Document: https://openapi.apps.gov.bc.ca/?url=https://raw.githubusercontent.com/bcgov/api-specs/master/news/news-oas3.yaml#/\n",
    "\n",
    "There is a lot to digest in the API Console/Swagger Document, but for this example the main points are:\n",
    "- we can see the server url is: https://news.api.gov.bc.ca/\n",
    "- there are many `paths` in the API - we'll focus on Ministries: /api/Ministries\n",
    "- there is a required parameter: `api-version`\n",
    "\n",
    "We can make a request to this API endpoint like:"
   ],
   "metadata": {
    "id": "I8GUxN-4Idup"
   }
  },
  {
   "cell_type": "code",
   "source": [
    "url = \"https://news.api.gov.bc.ca/api/Ministries?api-version=1.0\"\n",
    "response = requests.get(url)\n",
    "response_json = response.json()\n",
    "response_json"
   ],
   "metadata": {
    "id": "pdgdUdpmFHGb"
   },
   "execution_count": null,
   "outputs": []
  },
  {
   "cell_type": "markdown",
   "source": [
    "Finally, we can extract pared down, relevant information like so:"
   ],
   "metadata": {
    "id": "6B8x9HJ_SWFQ"
   }
  },
  {
   "cell_type": "code",
   "source": [
    "useful_info = {}\n",
    "for ministry in response_json:\n",
    "  useful_info[ministry[\"name\"]] = {\n",
    "      \"ministerName\": ministry[\"ministerName\"],\n",
    "      \"twitterFeedUsername\": ministry[\"twitterFeedUsername\"]\n",
    "  }\n",
    "\n",
    "useful_info"
   ],
   "metadata": {
    "id": "2PR3o9BAMbWZ"
   },
   "execution_count": null,
   "outputs": []
  },
  {
   "cell_type": "markdown",
   "source": [
    "# Extra Credit Ideas\n",
    "\n",
    "- try installing (`pip install ...`) your favourite third party Python package to this notebook (lots on [PyPi](https://pypi.org/)), and verify that it has been installed in the environment (`pip freeze`) and that you can import it (`import ...`)\n",
    "- try creating a new notebook in your Google Drive\n",
    "- if you are an R user, try creating an R notebook: https://colab.research.google.com/#create=true&language=r\n",
    "- find another BC Government API and see if you can make some requests\n",
    "- see if you can make a request to a BC Government API directly within its swagger document\n",
    "- find another API on the internet and see if you can make some requests. Be warned that some APIs take more effort to use than others (e.g. authentication). Ideas:\n",
    "  - Government of Canada:\n",
    "    - https://api.canada.ca/en/homepage\n",
    "  - Microsoft Planetary Computer:\n",
    "    - https://planetarycomputer.microsoft.com/docs/reference/stac/\n",
    "    - https://planetarycomputer.microsoft.com/docs/reference/data/\n",
    "  - Spotify\n",
    "    - https://developer.spotify.com/console/\n",
    "  - Twitter\n",
    "    - https://developer.twitter.com/en/docs/twitter-api\n",
    "\n",
    "- download and install [Postman](https://www.postman.com/downloads/), a very powerful API exploration tool.\n",
    "- if you don't have Python installed locally, try installing it. I hesitate to give advice on how to do that, because there are many ways to do it, and it depends somewhat on your operating system. For me, on MacOS, I have installed it both through [Homebrew](https://docs.brew.sh/Homebrew-and-Python), and [Anaconda](https://www.anaconda.com/products/distribution). I would probably recommend Anaconda, as it is available with installers for several operating systems.\n",
    "- Google Colab is only one type of notebook. There is another popular notebook ecosystem called [Jupyter](https://jupyter.org/). If you have Python installed locally, optionally try creating a virtual environment, [installing](https://jupyter.org/install) JupyterLab or Jupyter Notebook, and creating/using a local notebook. You can even download this Google Colab notebook and run it as a Jupyter notebook, just be aware that Google Colab is preloaded with many common Python modules which will not be loaded in your local environment.\n"
   ],
   "metadata": {
    "id": "FJkZ8RG7bMvw"
   }
  },
  {
   "cell_type": "code",
   "source": [],
   "metadata": {
    "id": "moarAXqmcPxd"
   },
   "execution_count": null,
   "outputs": []
  }
 ]
}
